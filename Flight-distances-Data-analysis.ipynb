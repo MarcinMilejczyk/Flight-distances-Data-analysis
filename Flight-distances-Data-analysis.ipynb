{
 "cells": [
  {
   "cell_type": "markdown",
   "id": "0e2985cf-a4c6-4360-9cfd-7229dda13ba8",
   "metadata": {},
   "source": [
    "## Introduction"
   ]
  },
  {
   "cell_type": "markdown",
   "id": "9609190f-5091-4431-929d-6fe22f1081f6",
   "metadata": {},
   "source": [
    "One of our large global financial clients spends millions of dollars a year on air travel. They believe that some of their contracted airlines are intentionally extending their quoted mileage for routes to lower the results of their cost-per-mile KPI, resulting in them appearing cheaper than the competition. Our company have therefore been tasked to track the point-to-point mileage between their top destinations and compare it to the mileage given by the carriers.\n",
    "\n",
    "The first step of this is to establish the point-to-point distance between each of the airports given. Our company maintain a master list of airport latitude and longitude provided by the International Air Transport Association, and it is using this that we intend to calculate these distances so that they can be wrapped into a function and compared to the carrier-provided distances live in one of our analytics applications."
   ]
  },
  {
   "cell_type": "markdown",
   "id": "b0e1bbdb-5bf9-4de5-8b10-20efb205fd32",
   "metadata": {},
   "source": [
    "#### First, let's have a look at provided dataset..."
   ]
  },
  {
   "cell_type": "code",
   "execution_count": 5,
   "id": "d54abfae-7c24-49a9-9115-575a0cd0c11f",
   "metadata": {},
   "outputs": [],
   "source": [
    "import pandas as pd\n",
    "import numpy as np\n",
    "import geopy.distance\n",
    "import airportsdata\n",
    "import re"
   ]
  },
  {
   "cell_type": "code",
   "execution_count": 6,
   "id": "930a84d9-3bc5-4181-b6c9-263ae171c47e",
   "metadata": {},
   "outputs": [],
   "source": [
    "df = pd.read_csv(\"Flight-distances.csv\")"
   ]
  },
  {
   "cell_type": "code",
   "execution_count": 7,
   "id": "a5b02ac8-bdc7-499f-80b1-ed64ae8fd4d8",
   "metadata": {},
   "outputs": [
    {
     "data": {
      "text/html": [
       "<div>\n",
       "<style scoped>\n",
       "    .dataframe tbody tr th:only-of-type {\n",
       "        vertical-align: middle;\n",
       "    }\n",
       "\n",
       "    .dataframe tbody tr th {\n",
       "        vertical-align: top;\n",
       "    }\n",
       "\n",
       "    .dataframe thead th {\n",
       "        text-align: right;\n",
       "    }\n",
       "</style>\n",
       "<table border=\"1\" class=\"dataframe\">\n",
       "  <thead>\n",
       "    <tr style=\"text-align: right;\">\n",
       "      <th></th>\n",
       "      <th>Normalised City Pair</th>\n",
       "      <th>Departure Code</th>\n",
       "      <th>Arrival Code</th>\n",
       "      <th>Departure_lat</th>\n",
       "      <th>Departure_lon</th>\n",
       "      <th>Arrival_lat</th>\n",
       "      <th>Arrival_lon</th>\n",
       "    </tr>\n",
       "  </thead>\n",
       "  <tbody>\n",
       "    <tr>\n",
       "      <th>0</th>\n",
       "      <td>London, United Kingdom - New York, United Stat...</td>\n",
       "      <td>LHR</td>\n",
       "      <td>JFK</td>\n",
       "      <td>51.5</td>\n",
       "      <td>-0.45</td>\n",
       "      <td>40.64</td>\n",
       "      <td>-73.79</td>\n",
       "    </tr>\n",
       "    <tr>\n",
       "      <th>1</th>\n",
       "      <td>Johannesburg, South Africa - London, United Ki...</td>\n",
       "      <td>JNB</td>\n",
       "      <td>LHR</td>\n",
       "      <td>-26.1</td>\n",
       "      <td>28.23</td>\n",
       "      <td>51.47</td>\n",
       "      <td>-0.45</td>\n",
       "    </tr>\n",
       "    <tr>\n",
       "      <th>2</th>\n",
       "      <td>London, United Kingdom - New York, United Stat...</td>\n",
       "      <td>LHR</td>\n",
       "      <td>JFK</td>\n",
       "      <td>51.5</td>\n",
       "      <td>-0.45</td>\n",
       "      <td>40.64</td>\n",
       "      <td>-73.79</td>\n",
       "    </tr>\n",
       "    <tr>\n",
       "      <th>3</th>\n",
       "      <td>Johannesburg, South Africa - London, United Ki...</td>\n",
       "      <td>JNB</td>\n",
       "      <td>LHR</td>\n",
       "      <td>-26.1</td>\n",
       "      <td>28.23</td>\n",
       "      <td>51.47</td>\n",
       "      <td>-0.45</td>\n",
       "    </tr>\n",
       "    <tr>\n",
       "      <th>4</th>\n",
       "      <td>London, United Kingdom - Singapore, Singapore</td>\n",
       "      <td>SIN</td>\n",
       "      <td>LHR</td>\n",
       "      <td>1.3</td>\n",
       "      <td>103.98</td>\n",
       "      <td>51.47</td>\n",
       "      <td>-0.45</td>\n",
       "    </tr>\n",
       "  </tbody>\n",
       "</table>\n",
       "</div>"
      ],
      "text/plain": [
       "                                Normalised City Pair Departure Code  \\\n",
       "0  London, United Kingdom - New York, United Stat...            LHR   \n",
       "1  Johannesburg, South Africa - London, United Ki...            JNB   \n",
       "2  London, United Kingdom - New York, United Stat...            LHR   \n",
       "3  Johannesburg, South Africa - London, United Ki...            JNB   \n",
       "4      London, United Kingdom - Singapore, Singapore            SIN   \n",
       "\n",
       "  Arrival Code  Departure_lat  Departure_lon  Arrival_lat  Arrival_lon  \n",
       "0          JFK           51.5          -0.45        40.64       -73.79  \n",
       "1          LHR          -26.1          28.23        51.47        -0.45  \n",
       "2          JFK           51.5          -0.45        40.64       -73.79  \n",
       "3          LHR          -26.1          28.23        51.47        -0.45  \n",
       "4          LHR            1.3         103.98        51.47        -0.45  "
      ]
     },
     "execution_count": 7,
     "metadata": {},
     "output_type": "execute_result"
    }
   ],
   "source": [
    "df.head()"
   ]
  },
  {
   "cell_type": "markdown",
   "id": "9ac59091-ad69-4756-88f7-904aaebdf70d",
   "metadata": {},
   "source": [
    "#### Calculating distances between airports "
   ]
  },
  {
   "cell_type": "code",
   "execution_count": 8,
   "id": "580402ab-134f-401f-bb71-8989d7c5a046",
   "metadata": {},
   "outputs": [],
   "source": [
    "# Calculating distances between airports based on delivered dataset\n",
    "\n",
    "distance_list = []\n",
    "for i in df.index:\n",
    "    departure_coords = (df.Departure_lat[i], df.Departure_lon[i])\n",
    "    arrival_coords = (df.Arrival_lat[i],df.Arrival_lon[i])\n",
    "    distance_list.append(round((geopy.distance.geodesic(departure_coords, arrival_coords).km),2))"
   ]
  },
  {
   "cell_type": "code",
   "execution_count": 9,
   "id": "422c25b0-efa1-4eb5-8a0d-fd9d5b7ba637",
   "metadata": {},
   "outputs": [
    {
     "data": {
      "text/html": [
       "<div>\n",
       "<style scoped>\n",
       "    .dataframe tbody tr th:only-of-type {\n",
       "        vertical-align: middle;\n",
       "    }\n",
       "\n",
       "    .dataframe tbody tr th {\n",
       "        vertical-align: top;\n",
       "    }\n",
       "\n",
       "    .dataframe thead th {\n",
       "        text-align: right;\n",
       "    }\n",
       "</style>\n",
       "<table border=\"1\" class=\"dataframe\">\n",
       "  <thead>\n",
       "    <tr style=\"text-align: right;\">\n",
       "      <th></th>\n",
       "      <th>Normalised City Pair</th>\n",
       "      <th>Departure Code</th>\n",
       "      <th>Arrival Code</th>\n",
       "      <th>Departure_lat</th>\n",
       "      <th>Departure_lon</th>\n",
       "      <th>Arrival_lat</th>\n",
       "      <th>Arrival_lon</th>\n",
       "      <th>Declared_distance_km</th>\n",
       "    </tr>\n",
       "  </thead>\n",
       "  <tbody>\n",
       "    <tr>\n",
       "      <th>0</th>\n",
       "      <td>London, United Kingdom - New York, United Stat...</td>\n",
       "      <td>LHR</td>\n",
       "      <td>JFK</td>\n",
       "      <td>51.5</td>\n",
       "      <td>-0.45</td>\n",
       "      <td>40.64</td>\n",
       "      <td>-73.79</td>\n",
       "      <td>5555.04</td>\n",
       "    </tr>\n",
       "    <tr>\n",
       "      <th>1</th>\n",
       "      <td>Johannesburg, South Africa - London, United Ki...</td>\n",
       "      <td>JNB</td>\n",
       "      <td>LHR</td>\n",
       "      <td>-26.1</td>\n",
       "      <td>28.23</td>\n",
       "      <td>51.47</td>\n",
       "      <td>-0.45</td>\n",
       "      <td>9040.01</td>\n",
       "    </tr>\n",
       "    <tr>\n",
       "      <th>2</th>\n",
       "      <td>London, United Kingdom - New York, United Stat...</td>\n",
       "      <td>LHR</td>\n",
       "      <td>JFK</td>\n",
       "      <td>51.5</td>\n",
       "      <td>-0.45</td>\n",
       "      <td>40.64</td>\n",
       "      <td>-73.79</td>\n",
       "      <td>5555.04</td>\n",
       "    </tr>\n",
       "    <tr>\n",
       "      <th>3</th>\n",
       "      <td>Johannesburg, South Africa - London, United Ki...</td>\n",
       "      <td>JNB</td>\n",
       "      <td>LHR</td>\n",
       "      <td>-26.1</td>\n",
       "      <td>28.23</td>\n",
       "      <td>51.47</td>\n",
       "      <td>-0.45</td>\n",
       "      <td>9040.01</td>\n",
       "    </tr>\n",
       "    <tr>\n",
       "      <th>4</th>\n",
       "      <td>London, United Kingdom - Singapore, Singapore</td>\n",
       "      <td>SIN</td>\n",
       "      <td>LHR</td>\n",
       "      <td>1.3</td>\n",
       "      <td>103.98</td>\n",
       "      <td>51.47</td>\n",
       "      <td>-0.45</td>\n",
       "      <td>10890.57</td>\n",
       "    </tr>\n",
       "  </tbody>\n",
       "</table>\n",
       "</div>"
      ],
      "text/plain": [
       "                                Normalised City Pair Departure Code  \\\n",
       "0  London, United Kingdom - New York, United Stat...            LHR   \n",
       "1  Johannesburg, South Africa - London, United Ki...            JNB   \n",
       "2  London, United Kingdom - New York, United Stat...            LHR   \n",
       "3  Johannesburg, South Africa - London, United Ki...            JNB   \n",
       "4      London, United Kingdom - Singapore, Singapore            SIN   \n",
       "\n",
       "  Arrival Code  Departure_lat  Departure_lon  Arrival_lat  Arrival_lon  \\\n",
       "0          JFK           51.5          -0.45        40.64       -73.79   \n",
       "1          LHR          -26.1          28.23        51.47        -0.45   \n",
       "2          JFK           51.5          -0.45        40.64       -73.79   \n",
       "3          LHR          -26.1          28.23        51.47        -0.45   \n",
       "4          LHR            1.3         103.98        51.47        -0.45   \n",
       "\n",
       "   Declared_distance_km  \n",
       "0               5555.04  \n",
       "1               9040.01  \n",
       "2               5555.04  \n",
       "3               9040.01  \n",
       "4              10890.57  "
      ]
     },
     "execution_count": 9,
     "metadata": {},
     "output_type": "execute_result"
    }
   ],
   "source": [
    "# Adding to data frame column containing distances between airports\n",
    "\n",
    "df['Declared_distance_km'] = np.array(distance_list)\n",
    "df.head()"
   ]
  },
  {
   "cell_type": "markdown",
   "id": "382eab9c-8d54-4f1d-98aa-174ecb623ac8",
   "metadata": {},
   "source": [
    "#### Creating function allowing us to compare previously calculated and actual distances between airports"
   ]
  },
  {
   "cell_type": "code",
   "execution_count": 10,
   "id": "17c7a66e-2e76-4f0e-80db-1ae72cbd1fdb",
   "metadata": {},
   "outputs": [],
   "source": [
    "# Loading IATA airports data\n",
    "\n",
    "airports = airportsdata.load('IATA') \n",
    "airports = pd.DataFrame.from_dict(airports, \n",
    "                                  orient='index', \n",
    "                                  columns= ['name', 'city', 'lat', 'lon'])"
   ]
  },
  {
   "cell_type": "code",
   "execution_count": 11,
   "id": "e90713bf-6fc5-4570-b3d7-2756d012069d",
   "metadata": {},
   "outputs": [],
   "source": [
    "def checking_distance():\n",
    "\n",
    "    valid_code = re.compile(r\"^[A-Z]{3}$\")\n",
    "\n",
    "    def airport_code(user_input):\n",
    "        if valid_code.match(user_input.strip()):\n",
    "            return True\n",
    "        else:\n",
    "            return False\n",
    "\n",
    "    while True:\n",
    "        user_input = input('Enter Departure Code (Three capital letters according to IATA codes):')\n",
    "        if airport_code(user_input) == True:\n",
    "            dep_code_input = user_input\n",
    "            while True:\n",
    "                user_input = input('Enter Arrival Code (Three capital letters according to IATA codes):')\n",
    "                if airport_code(user_input) == True:\n",
    "                    arr_code_input = user_input\n",
    "                    break            \n",
    "                else:\n",
    "                    print('Invalid code')\n",
    "            break            \n",
    "        else:\n",
    "            print('Invalid code')\n",
    "            \n",
    "    \n",
    "    dep_lon = airports['lon'].loc[dep_code_input]\n",
    "    dep_lat = airports['lat'].loc[dep_code_input]\n",
    "    \n",
    "    arr_lon = airports['lon'].loc[arr_code_input]\n",
    "    arr_lat = airports['lat'].loc[arr_code_input]\n",
    "    \n",
    "    departure_coords = (dep_lat, dep_lon)\n",
    "    arrival_coords = (arr_lat, arr_lon)\n",
    "    \n",
    "      \n",
    "    print('\\nChecking for distance...')\n",
    "    print('\\nProvided flights with calculated distances between airports based on given coordinates:\\n')\n",
    "    print(df[['Normalised City Pair', 'Departure Code', 'Arrival Code', 'Declared_distance_km']].loc[(df['Departure Code'] == dep_code_input) & (df['Arrival Code'] == arr_code_input)].to_string())\n",
    "    print(f'\\nActual distance between airports is: {round((geopy.distance.geodesic(departure_coords, arrival_coords).km),2)} km')\n",
    "    "
   ]
  },
  {
   "cell_type": "markdown",
   "id": "492d0b28-5c38-4c2c-8f6b-0df310e1e8a9",
   "metadata": {},
   "source": [
    "#### Let's try our function on the three most frequented flights"
   ]
  },
  {
   "cell_type": "code",
   "execution_count": 12,
   "id": "318ba2af-1a70-4afd-9a5d-1d9ce06ff0d8",
   "metadata": {},
   "outputs": [
    {
     "data": {
      "text/plain": [
       "Departure Code  Arrival Code\n",
       "LHR             JFK             11\n",
       "SIN             HKG              9\n",
       "HKG             SIN              8\n",
       "dtype: int64"
      ]
     },
     "execution_count": 12,
     "metadata": {},
     "output_type": "execute_result"
    }
   ],
   "source": [
    "df[['Departure Code', 'Arrival Code']].value_counts().head(3)"
   ]
  },
  {
   "cell_type": "code",
   "execution_count": 13,
   "id": "fd60c451-3b31-43ea-9dd7-68f191f88b46",
   "metadata": {},
   "outputs": [
    {
     "name": "stdin",
     "output_type": "stream",
     "text": [
      "Enter Departure Code (Three capital letters according to IATA codes): LHR\n",
      "Enter Arrival Code (Three capital letters according to IATA codes): JFK\n"
     ]
    },
    {
     "name": "stdout",
     "output_type": "stream",
     "text": [
      "\n",
      "Checking for distance...\n",
      "\n",
      "Provided flights with calculated distances between airports based on given coordinates:\n",
      "\n",
      "                                             Normalised City Pair Departure Code Arrival Code  Declared_distance_km\n",
      "0     London, United Kingdom - New York, United States Of America            LHR          JFK               5555.04\n",
      "2     London, United Kingdom - New York, United States Of America            LHR          JFK               5555.04\n",
      "395   London, United Kingdom - New York, United States Of America            LHR          JFK               5555.04\n",
      "519   London, United Kingdom - New York, United States Of America            LHR          JFK               5555.04\n",
      "573   London, United Kingdom - New York, United States Of America            LHR          JFK               5555.04\n",
      "767   London, United Kingdom - New York, United States Of America            LHR          JFK               5555.04\n",
      "777   London, United Kingdom - New York, United States Of America            LHR          JFK               5555.04\n",
      "801   London, United Kingdom - New York, United States Of America            LHR          JFK               5555.04\n",
      "1115  London, United Kingdom - New York, United States Of America            LHR          JFK               5555.04\n",
      "1293  London, United Kingdom - New York, United States Of America            LHR          JFK               5555.04\n",
      "2206  London, United Kingdom - New York, United States Of America            LHR          JFK               5555.04\n",
      "\n",
      "Actual distance between airports is: 5554.52 km\n"
     ]
    }
   ],
   "source": [
    "checking_distance()"
   ]
  },
  {
   "cell_type": "code",
   "execution_count": 14,
   "id": "500541ad-50f3-4f4a-b6b9-6d51268e206e",
   "metadata": {},
   "outputs": [
    {
     "name": "stdin",
     "output_type": "stream",
     "text": [
      "Enter Departure Code (Three capital letters according to IATA codes): SIN\n",
      "Enter Arrival Code (Three capital letters according to IATA codes): HKG\n"
     ]
    },
    {
     "name": "stdout",
     "output_type": "stream",
     "text": [
      "\n",
      "Checking for distance...\n",
      "\n",
      "Provided flights with calculated distances between airports based on given coordinates:\n",
      "\n",
      "                             Normalised City Pair Departure Code Arrival Code  Declared_distance_km\n",
      "49    Hong Kong, Hong Kong - Singapore, Singapore            SIN          HKG               2563.39\n",
      "57    Hong Kong, Hong Kong - Singapore, Singapore            SIN          HKG               2563.39\n",
      "89    Hong Kong, Hong Kong - Singapore, Singapore            SIN          HKG               2563.39\n",
      "104   Hong Kong, Hong Kong - Singapore, Singapore            SIN          HKG               2563.39\n",
      "133   Hong Kong, Hong Kong - Singapore, Singapore            SIN          HKG               2563.39\n",
      "1235  Hong Kong, Hong Kong - Singapore, Singapore            SIN          HKG               2563.39\n",
      "1469  Hong Kong, Hong Kong - Singapore, Singapore            SIN          HKG               2563.39\n",
      "1487  Hong Kong, Hong Kong - Singapore, Singapore            SIN          HKG               2563.39\n",
      "1667  Hong Kong, Hong Kong - Singapore, Singapore            SIN          HKG               2563.39\n",
      "\n",
      "Actual distance between airports is: 2555.45 km\n"
     ]
    }
   ],
   "source": [
    "checking_distance()"
   ]
  },
  {
   "cell_type": "code",
   "execution_count": 15,
   "id": "97fc8e1b-c7d4-4f94-874d-d8f167398d62",
   "metadata": {},
   "outputs": [
    {
     "name": "stdin",
     "output_type": "stream",
     "text": [
      "Enter Departure Code (Three capital letters according to IATA codes): HKG\n",
      "Enter Arrival Code (Three capital letters according to IATA codes): SIN\n"
     ]
    },
    {
     "name": "stdout",
     "output_type": "stream",
     "text": [
      "\n",
      "Checking for distance...\n",
      "\n",
      "Provided flights with calculated distances between airports based on given coordinates:\n",
      "\n",
      "                             Normalised City Pair Departure Code Arrival Code  Declared_distance_km\n",
      "168   Hong Kong, Hong Kong - Singapore, Singapore            HKG          SIN               2557.37\n",
      "517   Hong Kong, Hong Kong - Singapore, Singapore            HKG          SIN               2557.37\n",
      "619   Hong Kong, Hong Kong - Singapore, Singapore            HKG          SIN               2557.37\n",
      "1038  Hong Kong, Hong Kong - Singapore, Singapore            HKG          SIN               2557.37\n",
      "1141  Hong Kong, Hong Kong - Singapore, Singapore            HKG          SIN               2557.37\n",
      "1148  Hong Kong, Hong Kong - Singapore, Singapore            HKG          SIN               2557.37\n",
      "2645  Hong Kong, Hong Kong - Singapore, Singapore            HKG          SIN               2557.37\n",
      "2941  Hong Kong, Hong Kong - Singapore, Singapore            HKG          SIN               2557.37\n",
      "\n",
      "Actual distance between airports is: 2555.45 km\n"
     ]
    }
   ],
   "source": [
    "checking_distance()"
   ]
  },
  {
   "cell_type": "markdown",
   "id": "d64119c5-da38-4a48-9a84-0ceff5030cd6",
   "metadata": {},
   "source": [
    "#### In every of three main routes checked, declared distance was a little bit higher than the actual distance. Let's dig into our flights dataset "
   ]
  },
  {
   "cell_type": "code",
   "execution_count": 16,
   "id": "3c299270-1528-4e8e-8b54-35d48cd45564",
   "metadata": {},
   "outputs": [
    {
     "data": {
      "text/html": [
       "<div>\n",
       "<style scoped>\n",
       "    .dataframe tbody tr th:only-of-type {\n",
       "        vertical-align: middle;\n",
       "    }\n",
       "\n",
       "    .dataframe tbody tr th {\n",
       "        vertical-align: top;\n",
       "    }\n",
       "\n",
       "    .dataframe thead th {\n",
       "        text-align: right;\n",
       "    }\n",
       "</style>\n",
       "<table border=\"1\" class=\"dataframe\">\n",
       "  <thead>\n",
       "    <tr style=\"text-align: right;\">\n",
       "      <th></th>\n",
       "      <th>Departure_lat</th>\n",
       "      <th>Departure_lon</th>\n",
       "      <th>Arrival_lat</th>\n",
       "      <th>Arrival_lon</th>\n",
       "      <th>Declared_distance_km</th>\n",
       "    </tr>\n",
       "  </thead>\n",
       "  <tbody>\n",
       "    <tr>\n",
       "      <th>count</th>\n",
       "      <td>3000.000000</td>\n",
       "      <td>3000.000000</td>\n",
       "      <td>3000.000000</td>\n",
       "      <td>3000.000000</td>\n",
       "      <td>3000.000000</td>\n",
       "    </tr>\n",
       "    <tr>\n",
       "      <th>mean</th>\n",
       "      <td>31.573267</td>\n",
       "      <td>4.342753</td>\n",
       "      <td>30.692543</td>\n",
       "      <td>3.584463</td>\n",
       "      <td>3739.429787</td>\n",
       "    </tr>\n",
       "    <tr>\n",
       "      <th>std</th>\n",
       "      <td>23.254100</td>\n",
       "      <td>74.277086</td>\n",
       "      <td>23.835103</td>\n",
       "      <td>74.942567</td>\n",
       "      <td>3555.952405</td>\n",
       "    </tr>\n",
       "    <tr>\n",
       "      <th>min</th>\n",
       "      <td>-37.700000</td>\n",
       "      <td>-157.920000</td>\n",
       "      <td>-41.330000</td>\n",
       "      <td>-157.920000</td>\n",
       "      <td>17.250000</td>\n",
       "    </tr>\n",
       "    <tr>\n",
       "      <th>25%</th>\n",
       "      <td>25.300000</td>\n",
       "      <td>-73.790000</td>\n",
       "      <td>22.477500</td>\n",
       "      <td>-73.790000</td>\n",
       "      <td>844.147500</td>\n",
       "    </tr>\n",
       "    <tr>\n",
       "      <th>50%</th>\n",
       "      <td>40.100000</td>\n",
       "      <td>2.540000</td>\n",
       "      <td>40.000000</td>\n",
       "      <td>3.320000</td>\n",
       "      <td>2204.830000</td>\n",
       "    </tr>\n",
       "    <tr>\n",
       "      <th>75%</th>\n",
       "      <td>49.000000</td>\n",
       "      <td>55.350000</td>\n",
       "      <td>47.550000</td>\n",
       "      <td>55.350000</td>\n",
       "      <td>6026.430000</td>\n",
       "    </tr>\n",
       "    <tr>\n",
       "      <th>max</th>\n",
       "      <td>64.000000</td>\n",
       "      <td>153.110000</td>\n",
       "      <td>63.990000</td>\n",
       "      <td>174.810000</td>\n",
       "      <td>17014.670000</td>\n",
       "    </tr>\n",
       "  </tbody>\n",
       "</table>\n",
       "</div>"
      ],
      "text/plain": [
       "       Departure_lat  Departure_lon  Arrival_lat  Arrival_lon  \\\n",
       "count    3000.000000    3000.000000  3000.000000  3000.000000   \n",
       "mean       31.573267       4.342753    30.692543     3.584463   \n",
       "std        23.254100      74.277086    23.835103    74.942567   \n",
       "min       -37.700000    -157.920000   -41.330000  -157.920000   \n",
       "25%        25.300000     -73.790000    22.477500   -73.790000   \n",
       "50%        40.100000       2.540000    40.000000     3.320000   \n",
       "75%        49.000000      55.350000    47.550000    55.350000   \n",
       "max        64.000000     153.110000    63.990000   174.810000   \n",
       "\n",
       "       Declared_distance_km  \n",
       "count           3000.000000  \n",
       "mean            3739.429787  \n",
       "std             3555.952405  \n",
       "min               17.250000  \n",
       "25%              844.147500  \n",
       "50%             2204.830000  \n",
       "75%             6026.430000  \n",
       "max            17014.670000  "
      ]
     },
     "execution_count": 16,
     "metadata": {},
     "output_type": "execute_result"
    }
   ],
   "source": [
    "# Checking for off-scale coordinates\n",
    "\n",
    "df.describe() "
   ]
  },
  {
   "cell_type": "code",
   "execution_count": 17,
   "id": "6b5fb830-4494-4e1e-a9a7-00156f0fd78d",
   "metadata": {},
   "outputs": [
    {
     "data": {
      "text/plain": [
       "Normalised City Pair  Departure Code  Arrival Code  Departure_lat  Departure_lon  Arrival_lat  Arrival_lon  Declared_distance_km\n",
       "False                 False           False         False          False          False        False        False                   3000\n",
       "dtype: int64"
      ]
     },
     "execution_count": 17,
     "metadata": {},
     "output_type": "execute_result"
    }
   ],
   "source": [
    "# Checking for missing values\n",
    "\n",
    "df.isnull().value_counts()"
   ]
  },
  {
   "cell_type": "code",
   "execution_count": 18,
   "id": "48c76f90-05ba-4e96-b513-8ebd2230e15e",
   "metadata": {},
   "outputs": [
    {
     "data": {
      "text/plain": [
       "London, United Kingdom - New York, United States Of America              24\n",
       "Hong Kong, Hong Kong - Singapore, Singapore                              17\n",
       "Hong Kong, Hong Kong - Tokyo, Japan                                      16\n",
       "Edinburgh, United Kingdom - London, United Kingdom                       15\n",
       "Boston, United States Of America - New York, United States Of America    15\n",
       "                                                                         ..\n",
       "Madrid, Spain - Santiago De Compostela, Spain                             1\n",
       "Calgary, Canada - Toronto, Canada                                         1\n",
       "Boston, United States Of America - Doha, Qatar                            1\n",
       "Austin, United States Of America - Tokyo, Japan                           1\n",
       "Frankfurt, Germany - Helsinki, Finland                                    1\n",
       "Name: Normalised City Pair, Length: 1602, dtype: int64"
      ]
     },
     "execution_count": 18,
     "metadata": {},
     "output_type": "execute_result"
    }
   ],
   "source": [
    "# Checking for repeating city pairs\n",
    "\n",
    "df['Normalised City Pair'].value_counts()"
   ]
  },
  {
   "cell_type": "code",
   "execution_count": 19,
   "id": "c8a4ef85-f975-449c-a0bf-1f4e02d86626",
   "metadata": {},
   "outputs": [
    {
     "data": {
      "text/html": [
       "<div>\n",
       "<style scoped>\n",
       "    .dataframe tbody tr th:only-of-type {\n",
       "        vertical-align: middle;\n",
       "    }\n",
       "\n",
       "    .dataframe tbody tr th {\n",
       "        vertical-align: top;\n",
       "    }\n",
       "\n",
       "    .dataframe thead th {\n",
       "        text-align: right;\n",
       "    }\n",
       "</style>\n",
       "<table border=\"1\" class=\"dataframe\">\n",
       "  <thead>\n",
       "    <tr style=\"text-align: right;\">\n",
       "      <th></th>\n",
       "      <th>Normalised City Pair</th>\n",
       "      <th>Departure Code</th>\n",
       "      <th>Arrival Code</th>\n",
       "      <th>Departure_lat</th>\n",
       "      <th>Departure_lon</th>\n",
       "      <th>Arrival_lat</th>\n",
       "      <th>Arrival_lon</th>\n",
       "      <th>Declared_distance_km</th>\n",
       "    </tr>\n",
       "  </thead>\n",
       "  <tbody>\n",
       "    <tr>\n",
       "      <th>0</th>\n",
       "      <td>London, United Kingdom - New York, United Stat...</td>\n",
       "      <td>LHR</td>\n",
       "      <td>JFK</td>\n",
       "      <td>51.5</td>\n",
       "      <td>-0.45</td>\n",
       "      <td>40.64</td>\n",
       "      <td>-73.79</td>\n",
       "      <td>5555.04</td>\n",
       "    </tr>\n",
       "    <tr>\n",
       "      <th>2</th>\n",
       "      <td>London, United Kingdom - New York, United Stat...</td>\n",
       "      <td>LHR</td>\n",
       "      <td>JFK</td>\n",
       "      <td>51.5</td>\n",
       "      <td>-0.45</td>\n",
       "      <td>40.64</td>\n",
       "      <td>-73.79</td>\n",
       "      <td>5555.04</td>\n",
       "    </tr>\n",
       "    <tr>\n",
       "      <th>5</th>\n",
       "      <td>London, United Kingdom - New York, United Stat...</td>\n",
       "      <td>JFK</td>\n",
       "      <td>LCY</td>\n",
       "      <td>40.6</td>\n",
       "      <td>-73.79</td>\n",
       "      <td>51.50</td>\n",
       "      <td>0.05</td>\n",
       "      <td>5590.82</td>\n",
       "    </tr>\n",
       "    <tr>\n",
       "      <th>6</th>\n",
       "      <td>London, United Kingdom - New York, United Stat...</td>\n",
       "      <td>LCY</td>\n",
       "      <td>JFK</td>\n",
       "      <td>51.5</td>\n",
       "      <td>0.05</td>\n",
       "      <td>40.64</td>\n",
       "      <td>-73.79</td>\n",
       "      <td>5588.04</td>\n",
       "    </tr>\n",
       "    <tr>\n",
       "      <th>146</th>\n",
       "      <td>London, United Kingdom - New York, United Stat...</td>\n",
       "      <td>JFK</td>\n",
       "      <td>LHR</td>\n",
       "      <td>40.6</td>\n",
       "      <td>-73.79</td>\n",
       "      <td>51.47</td>\n",
       "      <td>-0.45</td>\n",
       "      <td>5558.84</td>\n",
       "    </tr>\n",
       "    <tr>\n",
       "      <th>395</th>\n",
       "      <td>London, United Kingdom - New York, United Stat...</td>\n",
       "      <td>LHR</td>\n",
       "      <td>JFK</td>\n",
       "      <td>51.5</td>\n",
       "      <td>-0.45</td>\n",
       "      <td>40.64</td>\n",
       "      <td>-73.79</td>\n",
       "      <td>5555.04</td>\n",
       "    </tr>\n",
       "    <tr>\n",
       "      <th>519</th>\n",
       "      <td>London, United Kingdom - New York, United Stat...</td>\n",
       "      <td>LHR</td>\n",
       "      <td>JFK</td>\n",
       "      <td>51.5</td>\n",
       "      <td>-0.45</td>\n",
       "      <td>40.64</td>\n",
       "      <td>-73.79</td>\n",
       "      <td>5555.04</td>\n",
       "    </tr>\n",
       "    <tr>\n",
       "      <th>573</th>\n",
       "      <td>London, United Kingdom - New York, United Stat...</td>\n",
       "      <td>LHR</td>\n",
       "      <td>JFK</td>\n",
       "      <td>51.5</td>\n",
       "      <td>-0.45</td>\n",
       "      <td>40.64</td>\n",
       "      <td>-73.79</td>\n",
       "      <td>5555.04</td>\n",
       "    </tr>\n",
       "    <tr>\n",
       "      <th>669</th>\n",
       "      <td>London, United Kingdom - New York, United Stat...</td>\n",
       "      <td>NYC</td>\n",
       "      <td>LHR</td>\n",
       "      <td>40.7</td>\n",
       "      <td>-74.01</td>\n",
       "      <td>51.47</td>\n",
       "      <td>-0.45</td>\n",
       "      <td>5566.44</td>\n",
       "    </tr>\n",
       "    <tr>\n",
       "      <th>767</th>\n",
       "      <td>London, United Kingdom - New York, United Stat...</td>\n",
       "      <td>LHR</td>\n",
       "      <td>JFK</td>\n",
       "      <td>51.5</td>\n",
       "      <td>-0.45</td>\n",
       "      <td>40.64</td>\n",
       "      <td>-73.79</td>\n",
       "      <td>5555.04</td>\n",
       "    </tr>\n",
       "    <tr>\n",
       "      <th>777</th>\n",
       "      <td>London, United Kingdom - New York, United Stat...</td>\n",
       "      <td>LHR</td>\n",
       "      <td>JFK</td>\n",
       "      <td>51.5</td>\n",
       "      <td>-0.45</td>\n",
       "      <td>40.64</td>\n",
       "      <td>-73.79</td>\n",
       "      <td>5555.04</td>\n",
       "    </tr>\n",
       "    <tr>\n",
       "      <th>801</th>\n",
       "      <td>London, United Kingdom - New York, United Stat...</td>\n",
       "      <td>LHR</td>\n",
       "      <td>JFK</td>\n",
       "      <td>51.5</td>\n",
       "      <td>-0.45</td>\n",
       "      <td>40.64</td>\n",
       "      <td>-73.79</td>\n",
       "      <td>5555.04</td>\n",
       "    </tr>\n",
       "    <tr>\n",
       "      <th>1115</th>\n",
       "      <td>London, United Kingdom - New York, United Stat...</td>\n",
       "      <td>LHR</td>\n",
       "      <td>JFK</td>\n",
       "      <td>51.5</td>\n",
       "      <td>-0.45</td>\n",
       "      <td>40.64</td>\n",
       "      <td>-73.79</td>\n",
       "      <td>5555.04</td>\n",
       "    </tr>\n",
       "    <tr>\n",
       "      <th>1293</th>\n",
       "      <td>London, United Kingdom - New York, United Stat...</td>\n",
       "      <td>LHR</td>\n",
       "      <td>JFK</td>\n",
       "      <td>51.5</td>\n",
       "      <td>-0.45</td>\n",
       "      <td>40.64</td>\n",
       "      <td>-73.79</td>\n",
       "      <td>5555.04</td>\n",
       "    </tr>\n",
       "    <tr>\n",
       "      <th>1801</th>\n",
       "      <td>London, United Kingdom - New York, United Stat...</td>\n",
       "      <td>JFK</td>\n",
       "      <td>LCY</td>\n",
       "      <td>40.6</td>\n",
       "      <td>-73.79</td>\n",
       "      <td>51.50</td>\n",
       "      <td>0.05</td>\n",
       "      <td>5590.82</td>\n",
       "    </tr>\n",
       "    <tr>\n",
       "      <th>1802</th>\n",
       "      <td>London, United Kingdom - New York, United Stat...</td>\n",
       "      <td>JFK</td>\n",
       "      <td>LHR</td>\n",
       "      <td>40.6</td>\n",
       "      <td>-73.79</td>\n",
       "      <td>51.47</td>\n",
       "      <td>-0.45</td>\n",
       "      <td>5558.84</td>\n",
       "    </tr>\n",
       "    <tr>\n",
       "      <th>1816</th>\n",
       "      <td>London, United Kingdom - New York, United Stat...</td>\n",
       "      <td>LCY</td>\n",
       "      <td>JFK</td>\n",
       "      <td>51.5</td>\n",
       "      <td>0.05</td>\n",
       "      <td>40.64</td>\n",
       "      <td>-73.79</td>\n",
       "      <td>5588.04</td>\n",
       "    </tr>\n",
       "    <tr>\n",
       "      <th>2099</th>\n",
       "      <td>London, United Kingdom - New York, United Stat...</td>\n",
       "      <td>LCY</td>\n",
       "      <td>JFK</td>\n",
       "      <td>51.5</td>\n",
       "      <td>0.05</td>\n",
       "      <td>40.64</td>\n",
       "      <td>-73.79</td>\n",
       "      <td>5588.04</td>\n",
       "    </tr>\n",
       "    <tr>\n",
       "      <th>2205</th>\n",
       "      <td>London, United Kingdom - New York, United Stat...</td>\n",
       "      <td>JFK</td>\n",
       "      <td>LHR</td>\n",
       "      <td>40.6</td>\n",
       "      <td>-73.79</td>\n",
       "      <td>51.47</td>\n",
       "      <td>-0.45</td>\n",
       "      <td>5558.84</td>\n",
       "    </tr>\n",
       "    <tr>\n",
       "      <th>2206</th>\n",
       "      <td>London, United Kingdom - New York, United Stat...</td>\n",
       "      <td>LHR</td>\n",
       "      <td>JFK</td>\n",
       "      <td>51.5</td>\n",
       "      <td>-0.45</td>\n",
       "      <td>40.64</td>\n",
       "      <td>-73.79</td>\n",
       "      <td>5555.04</td>\n",
       "    </tr>\n",
       "    <tr>\n",
       "      <th>2339</th>\n",
       "      <td>London, United Kingdom - New York, United Stat...</td>\n",
       "      <td>JFK</td>\n",
       "      <td>LHR</td>\n",
       "      <td>40.6</td>\n",
       "      <td>-73.79</td>\n",
       "      <td>51.47</td>\n",
       "      <td>-0.45</td>\n",
       "      <td>5558.84</td>\n",
       "    </tr>\n",
       "    <tr>\n",
       "      <th>2613</th>\n",
       "      <td>London, United Kingdom - New York, United Stat...</td>\n",
       "      <td>JFK</td>\n",
       "      <td>LHR</td>\n",
       "      <td>40.6</td>\n",
       "      <td>-73.79</td>\n",
       "      <td>51.47</td>\n",
       "      <td>-0.45</td>\n",
       "      <td>5558.84</td>\n",
       "    </tr>\n",
       "    <tr>\n",
       "      <th>2693</th>\n",
       "      <td>London, United Kingdom - New York, United Stat...</td>\n",
       "      <td>JFK</td>\n",
       "      <td>LHR</td>\n",
       "      <td>40.6</td>\n",
       "      <td>-73.79</td>\n",
       "      <td>51.47</td>\n",
       "      <td>-0.45</td>\n",
       "      <td>5558.84</td>\n",
       "    </tr>\n",
       "    <tr>\n",
       "      <th>2935</th>\n",
       "      <td>London, United Kingdom - New York, United Stat...</td>\n",
       "      <td>JFK</td>\n",
       "      <td>LHR</td>\n",
       "      <td>40.6</td>\n",
       "      <td>-73.79</td>\n",
       "      <td>51.47</td>\n",
       "      <td>-0.45</td>\n",
       "      <td>5558.84</td>\n",
       "    </tr>\n",
       "  </tbody>\n",
       "</table>\n",
       "</div>"
      ],
      "text/plain": [
       "                                   Normalised City Pair Departure Code  \\\n",
       "0     London, United Kingdom - New York, United Stat...            LHR   \n",
       "2     London, United Kingdom - New York, United Stat...            LHR   \n",
       "5     London, United Kingdom - New York, United Stat...            JFK   \n",
       "6     London, United Kingdom - New York, United Stat...            LCY   \n",
       "146   London, United Kingdom - New York, United Stat...            JFK   \n",
       "395   London, United Kingdom - New York, United Stat...            LHR   \n",
       "519   London, United Kingdom - New York, United Stat...            LHR   \n",
       "573   London, United Kingdom - New York, United Stat...            LHR   \n",
       "669   London, United Kingdom - New York, United Stat...            NYC   \n",
       "767   London, United Kingdom - New York, United Stat...            LHR   \n",
       "777   London, United Kingdom - New York, United Stat...            LHR   \n",
       "801   London, United Kingdom - New York, United Stat...            LHR   \n",
       "1115  London, United Kingdom - New York, United Stat...            LHR   \n",
       "1293  London, United Kingdom - New York, United Stat...            LHR   \n",
       "1801  London, United Kingdom - New York, United Stat...            JFK   \n",
       "1802  London, United Kingdom - New York, United Stat...            JFK   \n",
       "1816  London, United Kingdom - New York, United Stat...            LCY   \n",
       "2099  London, United Kingdom - New York, United Stat...            LCY   \n",
       "2205  London, United Kingdom - New York, United Stat...            JFK   \n",
       "2206  London, United Kingdom - New York, United Stat...            LHR   \n",
       "2339  London, United Kingdom - New York, United Stat...            JFK   \n",
       "2613  London, United Kingdom - New York, United Stat...            JFK   \n",
       "2693  London, United Kingdom - New York, United Stat...            JFK   \n",
       "2935  London, United Kingdom - New York, United Stat...            JFK   \n",
       "\n",
       "     Arrival Code  Departure_lat  Departure_lon  Arrival_lat  Arrival_lon  \\\n",
       "0             JFK           51.5          -0.45        40.64       -73.79   \n",
       "2             JFK           51.5          -0.45        40.64       -73.79   \n",
       "5             LCY           40.6         -73.79        51.50         0.05   \n",
       "6             JFK           51.5           0.05        40.64       -73.79   \n",
       "146           LHR           40.6         -73.79        51.47        -0.45   \n",
       "395           JFK           51.5          -0.45        40.64       -73.79   \n",
       "519           JFK           51.5          -0.45        40.64       -73.79   \n",
       "573           JFK           51.5          -0.45        40.64       -73.79   \n",
       "669           LHR           40.7         -74.01        51.47        -0.45   \n",
       "767           JFK           51.5          -0.45        40.64       -73.79   \n",
       "777           JFK           51.5          -0.45        40.64       -73.79   \n",
       "801           JFK           51.5          -0.45        40.64       -73.79   \n",
       "1115          JFK           51.5          -0.45        40.64       -73.79   \n",
       "1293          JFK           51.5          -0.45        40.64       -73.79   \n",
       "1801          LCY           40.6         -73.79        51.50         0.05   \n",
       "1802          LHR           40.6         -73.79        51.47        -0.45   \n",
       "1816          JFK           51.5           0.05        40.64       -73.79   \n",
       "2099          JFK           51.5           0.05        40.64       -73.79   \n",
       "2205          LHR           40.6         -73.79        51.47        -0.45   \n",
       "2206          JFK           51.5          -0.45        40.64       -73.79   \n",
       "2339          LHR           40.6         -73.79        51.47        -0.45   \n",
       "2613          LHR           40.6         -73.79        51.47        -0.45   \n",
       "2693          LHR           40.6         -73.79        51.47        -0.45   \n",
       "2935          LHR           40.6         -73.79        51.47        -0.45   \n",
       "\n",
       "      Declared_distance_km  \n",
       "0                  5555.04  \n",
       "2                  5555.04  \n",
       "5                  5590.82  \n",
       "6                  5588.04  \n",
       "146                5558.84  \n",
       "395                5555.04  \n",
       "519                5555.04  \n",
       "573                5555.04  \n",
       "669                5566.44  \n",
       "767                5555.04  \n",
       "777                5555.04  \n",
       "801                5555.04  \n",
       "1115               5555.04  \n",
       "1293               5555.04  \n",
       "1801               5590.82  \n",
       "1802               5558.84  \n",
       "1816               5588.04  \n",
       "2099               5588.04  \n",
       "2205               5558.84  \n",
       "2206               5555.04  \n",
       "2339               5558.84  \n",
       "2613               5558.84  \n",
       "2693               5558.84  \n",
       "2935               5558.84  "
      ]
     },
     "execution_count": 19,
     "metadata": {},
     "output_type": "execute_result"
    }
   ],
   "source": [
    "# Examining most frequented route: London, United Kingdom - New York, United States Of America\n",
    "\n",
    "df.loc[df['Normalised City Pair'] == 'London, United Kingdom - New York, United States Of America']"
   ]
  },
  {
   "cell_type": "markdown",
   "id": "97cb2711-1b1e-4b9a-833c-dc3dbb878c1a",
   "metadata": {},
   "source": [
    "#### Several inconsistent JFK coordinates can be spotted over this one city pair. What are the actual JFK coordinates delivered by IATA? Let' check!"
   ]
  },
  {
   "cell_type": "code",
   "execution_count": 20,
   "id": "27f95572-d47e-413f-9cf8-72e2fd0d010e",
   "metadata": {},
   "outputs": [
    {
     "data": {
      "text/plain": [
       "name    John F Kennedy International Airport\n",
       "city                                New York\n",
       "lat                                40.639928\n",
       "lon                               -73.778693\n",
       "Name: JFK, dtype: object"
      ]
     },
     "execution_count": 20,
     "metadata": {},
     "output_type": "execute_result"
    }
   ],
   "source": [
    "airports.loc['JFK']"
   ]
  },
  {
   "cell_type": "markdown",
   "id": "f5c7c653-ba5f-438a-a740-f370fd87de04",
   "metadata": {},
   "source": [
    "#### We should examine every JFK coordinates in our dataset. For start - departure coordinates:"
   ]
  },
  {
   "cell_type": "code",
   "execution_count": 21,
   "id": "cdf7a450-39ce-4278-aed6-54c0988e6374",
   "metadata": {},
   "outputs": [
    {
     "data": {
      "text/plain": [
       "Departure Code  Departure_lat  Departure_lon\n",
       "JFK              40.6          -73.79           90\n",
       "                 51.5          -0.45             8\n",
       "                 25.3           55.35            3\n",
       "                 35.8           140.39           2\n",
       "                 50.1           8.56             2\n",
       "                -23.4          -46.48            1\n",
       "                 1.3            103.98           1\n",
       "                 18.4          -66.01            1\n",
       "                 22.3           113.94           1\n",
       "                 33.4          -110.87           1\n",
       "                 34.1          -118.24           1\n",
       "                 40.8          -111.89           1\n",
       "                 47.5           8.57             1\n",
       "                 52.3           4.75             1\n",
       "dtype: int64"
      ]
     },
     "execution_count": 21,
     "metadata": {},
     "output_type": "execute_result"
    }
   ],
   "source": [
    "df[['Departure Code', 'Departure_lat', 'Departure_lon']].loc[df['Departure Code'] == 'JFK'].value_counts()"
   ]
  },
  {
   "cell_type": "markdown",
   "id": "7f650cc5-b7f4-44e0-8935-75a1557acc2c",
   "metadata": {},
   "source": [
    "#### As we can see above, JFK airport has a lot of different departure coordinates across dataset. We should take a closer look at some of them. For start - JFK coordinate with lattitude -23,4 and longitude -46,48:"
   ]
  },
  {
   "cell_type": "code",
   "execution_count": 22,
   "id": "ff79234e-1067-45e5-8d11-c73af6c81063",
   "metadata": {},
   "outputs": [
    {
     "data": {
      "text/html": [
       "<div>\n",
       "<style scoped>\n",
       "    .dataframe tbody tr th:only-of-type {\n",
       "        vertical-align: middle;\n",
       "    }\n",
       "\n",
       "    .dataframe tbody tr th {\n",
       "        vertical-align: top;\n",
       "    }\n",
       "\n",
       "    .dataframe thead th {\n",
       "        text-align: right;\n",
       "    }\n",
       "</style>\n",
       "<table border=\"1\" class=\"dataframe\">\n",
       "  <thead>\n",
       "    <tr style=\"text-align: right;\">\n",
       "      <th></th>\n",
       "      <th>Normalised City Pair</th>\n",
       "      <th>Departure Code</th>\n",
       "      <th>Arrival Code</th>\n",
       "      <th>Departure_lat</th>\n",
       "      <th>Departure_lon</th>\n",
       "      <th>Arrival_lat</th>\n",
       "      <th>Arrival_lon</th>\n",
       "      <th>Declared_distance_km</th>\n",
       "    </tr>\n",
       "  </thead>\n",
       "  <tbody>\n",
       "    <tr>\n",
       "      <th>2807</th>\n",
       "      <td>Belo Horizonte-confins, Brazil - New York, Uni...</td>\n",
       "      <td>JFK</td>\n",
       "      <td>CNF</td>\n",
       "      <td>-23.4</td>\n",
       "      <td>-46.48</td>\n",
       "      <td>-19.63</td>\n",
       "      <td>-43.96</td>\n",
       "      <td>492.32</td>\n",
       "    </tr>\n",
       "  </tbody>\n",
       "</table>\n",
       "</div>"
      ],
      "text/plain": [
       "                                   Normalised City Pair Departure Code  \\\n",
       "2807  Belo Horizonte-confins, Brazil - New York, Uni...            JFK   \n",
       "\n",
       "     Arrival Code  Departure_lat  Departure_lon  Arrival_lat  Arrival_lon  \\\n",
       "2807          CNF          -23.4         -46.48       -19.63       -43.96   \n",
       "\n",
       "      Declared_distance_km  \n",
       "2807                492.32  "
      ]
     },
     "execution_count": 22,
     "metadata": {},
     "output_type": "execute_result"
    }
   ],
   "source": [
    "df.loc[(df['Departure Code'] == 'JFK') & (df['Departure_lat'] == -23.4)]"
   ]
  },
  {
   "cell_type": "markdown",
   "id": "486bb424-6623-481b-a847-5a22cc7337f9",
   "metadata": {},
   "source": [
    "#### To proper check distance between this two airports, we have to confirm actual coordinates for CNF (Belo Horizonte) airport:"
   ]
  },
  {
   "cell_type": "code",
   "execution_count": 23,
   "id": "4f838b24-b5f0-4fcc-ad2f-d97d319e647a",
   "metadata": {},
   "outputs": [
    {
     "data": {
      "text/html": [
       "<div>\n",
       "<style scoped>\n",
       "    .dataframe tbody tr th:only-of-type {\n",
       "        vertical-align: middle;\n",
       "    }\n",
       "\n",
       "    .dataframe tbody tr th {\n",
       "        vertical-align: top;\n",
       "    }\n",
       "\n",
       "    .dataframe thead th {\n",
       "        text-align: right;\n",
       "    }\n",
       "</style>\n",
       "<table border=\"1\" class=\"dataframe\">\n",
       "  <thead>\n",
       "    <tr style=\"text-align: right;\">\n",
       "      <th></th>\n",
       "      <th>Normalised City Pair</th>\n",
       "      <th>Departure Code</th>\n",
       "      <th>Arrival Code</th>\n",
       "      <th>Departure_lat</th>\n",
       "      <th>Departure_lon</th>\n",
       "      <th>Arrival_lat</th>\n",
       "      <th>Arrival_lon</th>\n",
       "      <th>Declared_distance_km</th>\n",
       "    </tr>\n",
       "  </thead>\n",
       "  <tbody>\n",
       "    <tr>\n",
       "      <th>2807</th>\n",
       "      <td>Belo Horizonte-confins, Brazil - New York, Uni...</td>\n",
       "      <td>JFK</td>\n",
       "      <td>CNF</td>\n",
       "      <td>-23.4</td>\n",
       "      <td>-46.48</td>\n",
       "      <td>-19.63</td>\n",
       "      <td>-43.96</td>\n",
       "      <td>492.32</td>\n",
       "    </tr>\n",
       "  </tbody>\n",
       "</table>\n",
       "</div>"
      ],
      "text/plain": [
       "                                   Normalised City Pair Departure Code  \\\n",
       "2807  Belo Horizonte-confins, Brazil - New York, Uni...            JFK   \n",
       "\n",
       "     Arrival Code  Departure_lat  Departure_lon  Arrival_lat  Arrival_lon  \\\n",
       "2807          CNF          -23.4         -46.48       -19.63       -43.96   \n",
       "\n",
       "      Declared_distance_km  \n",
       "2807                492.32  "
      ]
     },
     "execution_count": 23,
     "metadata": {},
     "output_type": "execute_result"
    }
   ],
   "source": [
    "df.loc[(df['Departure Code'] == 'JFK') & (df['Departure_lat'] == -23.4)]"
   ]
  },
  {
   "cell_type": "markdown",
   "id": "84e9e7ca-9458-4200-ae34-b1f35463182c",
   "metadata": {},
   "source": [
    "#### To proper check distance between this two airports, we have to confirm actual coordinates for CNF (Belo Horizonte) airport:"
   ]
  },
  {
   "cell_type": "code",
   "execution_count": 24,
   "id": "75a91fcc-dcd9-4f55-b335-7aedb4205ea3",
   "metadata": {},
   "outputs": [
    {
     "data": {
      "text/plain": [
       "name    Tancredo Neves International Airport\n",
       "city                          Belo Horizonte\n",
       "lat                               -19.624443\n",
       "lon                               -43.971943\n",
       "Name: CNF, dtype: object"
      ]
     },
     "execution_count": 24,
     "metadata": {},
     "output_type": "execute_result"
    }
   ],
   "source": [
    "airports.loc['CNF']"
   ]
  },
  {
   "cell_type": "markdown",
   "id": "f01f4f1c-9434-4277-8fdd-e51b7d7cc1b4",
   "metadata": {},
   "source": [
    "#### The actual coordinates of CNF and coordinates in dataset are almost identical. We clearly have incorrectly entered coordinates for JFK. What are the consequences of that mistake? We can use our function:"
   ]
  },
  {
   "cell_type": "code",
   "execution_count": 26,
   "id": "faebd938-4262-41fb-b0e9-073758d36de8",
   "metadata": {},
   "outputs": [
    {
     "name": "stdin",
     "output_type": "stream",
     "text": [
      "Enter Departure Code (Three capital letters according to IATA codes): JFK\n",
      "Enter Arrival Code (Three capital letters according to IATA codes): CNF\n"
     ]
    },
    {
     "name": "stdout",
     "output_type": "stream",
     "text": [
      "\n",
      "Checking for distance...\n",
      "\n",
      "Provided flights with calculated distances between airports based on given coordinates:\n",
      "\n",
      "                                                     Normalised City Pair Departure Code Arrival Code  Declared_distance_km\n",
      "2807  Belo Horizonte-confins, Brazil - New York, United States Of America            JFK          CNF                492.32\n",
      "\n",
      "Actual distance between airports is: 7350.65 km\n"
     ]
    }
   ],
   "source": [
    "checking_distance()"
   ]
  },
  {
   "cell_type": "markdown",
   "id": "ba4150cf-d5c4-4179-b1d5-8aa85a086e8e",
   "metadata": {},
   "source": [
    "#### Actual distance between airports is over 6858 km longer than the distance calculated based on provided data!"
   ]
  },
  {
   "cell_type": "markdown",
   "id": "b4562aeb-b310-4b3d-8e36-32359d344158",
   "metadata": {},
   "source": [
    "#### We can do the same check for another suspicious JFK coordinates:"
   ]
  },
  {
   "cell_type": "code",
   "execution_count": 27,
   "id": "51a7b7ac-482c-475e-a303-454354ec058c",
   "metadata": {},
   "outputs": [
    {
     "data": {
      "text/html": [
       "<div>\n",
       "<style scoped>\n",
       "    .dataframe tbody tr th:only-of-type {\n",
       "        vertical-align: middle;\n",
       "    }\n",
       "\n",
       "    .dataframe tbody tr th {\n",
       "        vertical-align: top;\n",
       "    }\n",
       "\n",
       "    .dataframe thead th {\n",
       "        text-align: right;\n",
       "    }\n",
       "</style>\n",
       "<table border=\"1\" class=\"dataframe\">\n",
       "  <thead>\n",
       "    <tr style=\"text-align: right;\">\n",
       "      <th></th>\n",
       "      <th>Normalised City Pair</th>\n",
       "      <th>Departure Code</th>\n",
       "      <th>Arrival Code</th>\n",
       "      <th>Departure_lat</th>\n",
       "      <th>Departure_lon</th>\n",
       "      <th>Arrival_lat</th>\n",
       "      <th>Arrival_lon</th>\n",
       "      <th>Declared_distance_km</th>\n",
       "    </tr>\n",
       "  </thead>\n",
       "  <tbody>\n",
       "    <tr>\n",
       "      <th>808</th>\n",
       "      <td>New York, United States Of America - Osaka, Japan</td>\n",
       "      <td>JFK</td>\n",
       "      <td>ITM</td>\n",
       "      <td>35.8</td>\n",
       "      <td>140.39</td>\n",
       "      <td>34.79</td>\n",
       "      <td>135.44</td>\n",
       "      <td>463.92</td>\n",
       "    </tr>\n",
       "    <tr>\n",
       "      <th>2143</th>\n",
       "      <td>Guam, Guam - New York, United States Of America</td>\n",
       "      <td>JFK</td>\n",
       "      <td>GUM</td>\n",
       "      <td>35.8</td>\n",
       "      <td>140.39</td>\n",
       "      <td>13.48</td>\n",
       "      <td>144.75</td>\n",
       "      <td>2510.82</td>\n",
       "    </tr>\n",
       "  </tbody>\n",
       "</table>\n",
       "</div>"
      ],
      "text/plain": [
       "                                   Normalised City Pair Departure Code  \\\n",
       "808   New York, United States Of America - Osaka, Japan            JFK   \n",
       "2143    Guam, Guam - New York, United States Of America            JFK   \n",
       "\n",
       "     Arrival Code  Departure_lat  Departure_lon  Arrival_lat  Arrival_lon  \\\n",
       "808           ITM           35.8         140.39        34.79       135.44   \n",
       "2143          GUM           35.8         140.39        13.48       144.75   \n",
       "\n",
       "      Declared_distance_km  \n",
       "808                 463.92  \n",
       "2143               2510.82  "
      ]
     },
     "execution_count": 27,
     "metadata": {},
     "output_type": "execute_result"
    }
   ],
   "source": [
    "df.loc[(df['Departure Code'] == 'JFK') & (df['Departure_lat'] == 35.8)]"
   ]
  },
  {
   "cell_type": "code",
   "execution_count": 28,
   "id": "3110e700-6703-47f8-a6e4-114311c9e30e",
   "metadata": {},
   "outputs": [
    {
     "data": {
      "text/plain": [
       "name    Osaka International Airport\n",
       "city                          Osaka\n",
       "lat                         34.7855\n",
       "lon                      135.438004\n",
       "Name: ITM, dtype: object"
      ]
     },
     "execution_count": 28,
     "metadata": {},
     "output_type": "execute_result"
    }
   ],
   "source": [
    "airports.loc['ITM']"
   ]
  },
  {
   "cell_type": "code",
   "execution_count": 29,
   "id": "f8b0220c-fd16-482b-b99a-1f2a989c2b82",
   "metadata": {},
   "outputs": [
    {
     "name": "stdin",
     "output_type": "stream",
     "text": [
      "Enter Departure Code (Three capital letters according to IATA codes): JFK\n",
      "Enter Arrival Code (Three capital letters according to IATA codes): ITM\n"
     ]
    },
    {
     "name": "stdout",
     "output_type": "stream",
     "text": [
      "\n",
      "Checking for distance...\n",
      "\n",
      "Provided flights with calculated distances between airports based on given coordinates:\n",
      "\n",
      "                                  Normalised City Pair Departure Code Arrival Code  Declared_distance_km\n",
      "808  New York, United States Of America - Osaka, Japan            JFK          ITM                463.92\n",
      "\n",
      "Actual distance between airports is: 11135.1 km\n"
     ]
    }
   ],
   "source": [
    "checking_distance()"
   ]
  },
  {
   "cell_type": "code",
   "execution_count": 30,
   "id": "93d708a7-c1c0-4f2f-9337-741c9f510ef0",
   "metadata": {},
   "outputs": [
    {
     "data": {
      "text/plain": [
       "name    Guam International Airport\n",
       "city                          Guam\n",
       "lat                      13.483951\n",
       "lon                     144.797127\n",
       "Name: GUM, dtype: object"
      ]
     },
     "execution_count": 30,
     "metadata": {},
     "output_type": "execute_result"
    }
   ],
   "source": [
    "airports.loc['GUM']"
   ]
  },
  {
   "cell_type": "code",
   "execution_count": 31,
   "id": "a65c9c2d-429d-49d4-a722-8f884a96cac4",
   "metadata": {},
   "outputs": [
    {
     "name": "stdin",
     "output_type": "stream",
     "text": [
      "Enter Departure Code (Three capital letters according to IATA codes): JFK\n",
      "Enter Arrival Code (Three capital letters according to IATA codes): GUM\n"
     ]
    },
    {
     "name": "stdout",
     "output_type": "stream",
     "text": [
      "\n",
      "Checking for distance...\n",
      "\n",
      "Provided flights with calculated distances between airports based on given coordinates:\n",
      "\n",
      "                                 Normalised City Pair Departure Code Arrival Code  Declared_distance_km\n",
      "2143  Guam, Guam - New York, United States Of America            JFK          GUM               2510.82\n",
      "\n",
      "Actual distance between airports is: 12820.63 km\n"
     ]
    }
   ],
   "source": [
    "checking_distance()"
   ]
  },
  {
   "cell_type": "markdown",
   "id": "849830a7-3e7f-47e3-a455-51ebef288c1a",
   "metadata": {},
   "source": [
    "#### We can see a large discrepancies in those distance calculations."
   ]
  },
  {
   "cell_type": "markdown",
   "id": "f09b5d34-6e09-4fdf-88cf-c3c7b327ef24",
   "metadata": {},
   "source": [
    "#### Let's check the coordinates for JFK arrivals:"
   ]
  },
  {
   "cell_type": "code",
   "execution_count": 33,
   "id": "6dec8249-d660-4527-b50d-2ae754d7900f",
   "metadata": {},
   "outputs": [
    {
     "data": {
      "text/plain": [
       "Arrival Code  Arrival_lat  Arrival_lon\n",
       "JFK           40.64        -73.79         130\n",
       "dtype: int64"
      ]
     },
     "execution_count": 33,
     "metadata": {},
     "output_type": "execute_result"
    }
   ],
   "source": [
    "df[['Arrival Code', 'Arrival_lat', 'Arrival_lon']].loc[df['Arrival Code'] == 'JFK'].value_counts()"
   ]
  },
  {
   "cell_type": "markdown",
   "id": "063124db-d130-44c6-a247-d9274d9937d3",
   "metadata": {},
   "source": [
    "#### Arrivals coordinates for JFK seems to be ok - there are 130 entries with the same values."
   ]
  },
  {
   "cell_type": "markdown",
   "id": "abea93ce-cee4-491b-a987-eb2496f8d463",
   "metadata": {},
   "source": [
    "#### As we can see, arrival coordinates for JFK airport are correct, but some of the departure coordinates are wrong.\n",
    "\n",
    "#### Also, in the row 669 of our dataset, there is NYC departure code, wich don't belong neither to New York or London airports:"
   ]
  },
  {
   "cell_type": "code",
   "execution_count": 34,
   "id": "fce41be5-0fe5-43bb-9b66-a8615285ac76",
   "metadata": {},
   "outputs": [
    {
     "data": {
      "text/plain": [
       "Normalised City Pair    London, United Kingdom - New York, United Stat...\n",
       "Departure Code                                                        NYC\n",
       "Arrival Code                                                          LHR\n",
       "Departure_lat                                                        40.7\n",
       "Departure_lon                                                      -74.01\n",
       "Arrival_lat                                                         51.47\n",
       "Arrival_lon                                                         -0.45\n",
       "Declared_distance_km                                              5566.44\n",
       "Name: 669, dtype: object"
      ]
     },
     "execution_count": 34,
     "metadata": {},
     "output_type": "execute_result"
    }
   ],
   "source": [
    "df.iloc[669]"
   ]
  },
  {
   "cell_type": "markdown",
   "id": "01594c99-025b-4e5b-aca2-1fedac992f53",
   "metadata": {},
   "source": [
    "#### Actual airports in New York and London:"
   ]
  },
  {
   "cell_type": "code",
   "execution_count": 35,
   "id": "7333cf8d-8547-4c1b-956f-65f96f8b1f3a",
   "metadata": {},
   "outputs": [
    {
     "data": {
      "text/html": [
       "<div>\n",
       "<style scoped>\n",
       "    .dataframe tbody tr th:only-of-type {\n",
       "        vertical-align: middle;\n",
       "    }\n",
       "\n",
       "    .dataframe tbody tr th {\n",
       "        vertical-align: top;\n",
       "    }\n",
       "\n",
       "    .dataframe thead th {\n",
       "        text-align: right;\n",
       "    }\n",
       "</style>\n",
       "<table border=\"1\" class=\"dataframe\">\n",
       "  <thead>\n",
       "    <tr style=\"text-align: right;\">\n",
       "      <th></th>\n",
       "      <th>name</th>\n",
       "      <th>city</th>\n",
       "      <th>lat</th>\n",
       "      <th>lon</th>\n",
       "    </tr>\n",
       "  </thead>\n",
       "  <tbody>\n",
       "    <tr>\n",
       "      <th>YXU</th>\n",
       "      <td>London Airport</td>\n",
       "      <td>London</td>\n",
       "      <td>43.035599</td>\n",
       "      <td>-81.153900</td>\n",
       "    </tr>\n",
       "    <tr>\n",
       "      <th>LTN</th>\n",
       "      <td>London Luton Airport</td>\n",
       "      <td>London</td>\n",
       "      <td>51.874699</td>\n",
       "      <td>-0.368333</td>\n",
       "    </tr>\n",
       "    <tr>\n",
       "      <th>BQH</th>\n",
       "      <td>London Biggin Hill Airport</td>\n",
       "      <td>London</td>\n",
       "      <td>51.330799</td>\n",
       "      <td>0.032500</td>\n",
       "    </tr>\n",
       "    <tr>\n",
       "      <th>LGW</th>\n",
       "      <td>London Gatwick Airport</td>\n",
       "      <td>London</td>\n",
       "      <td>51.148102</td>\n",
       "      <td>-0.190278</td>\n",
       "    </tr>\n",
       "    <tr>\n",
       "      <th>LCY</th>\n",
       "      <td>London City Airport</td>\n",
       "      <td>London</td>\n",
       "      <td>51.505299</td>\n",
       "      <td>0.055278</td>\n",
       "    </tr>\n",
       "    <tr>\n",
       "      <th>LHR</th>\n",
       "      <td>London Heathrow Airport</td>\n",
       "      <td>London</td>\n",
       "      <td>51.470600</td>\n",
       "      <td>-0.461941</td>\n",
       "    </tr>\n",
       "    <tr>\n",
       "      <th>STN</th>\n",
       "      <td>London Stansted Airport</td>\n",
       "      <td>London</td>\n",
       "      <td>51.884998</td>\n",
       "      <td>0.235000</td>\n",
       "    </tr>\n",
       "    <tr>\n",
       "      <th>NHT</th>\n",
       "      <td>RAF Northolt</td>\n",
       "      <td>London</td>\n",
       "      <td>51.553001</td>\n",
       "      <td>-0.418167</td>\n",
       "    </tr>\n",
       "    <tr>\n",
       "      <th>ISP</th>\n",
       "      <td>Long Island Mac Arthur Airport</td>\n",
       "      <td>New York</td>\n",
       "      <td>40.796136</td>\n",
       "      <td>-73.100665</td>\n",
       "    </tr>\n",
       "    <tr>\n",
       "      <th>JFK</th>\n",
       "      <td>John F Kennedy International Airport</td>\n",
       "      <td>New York</td>\n",
       "      <td>40.639928</td>\n",
       "      <td>-73.778693</td>\n",
       "    </tr>\n",
       "    <tr>\n",
       "      <th>LGA</th>\n",
       "      <td>Laguardia Airport</td>\n",
       "      <td>New York</td>\n",
       "      <td>40.777250</td>\n",
       "      <td>-73.872611</td>\n",
       "    </tr>\n",
       "    <tr>\n",
       "      <th>SWF</th>\n",
       "      <td>New York Stewart International Airport</td>\n",
       "      <td>New York</td>\n",
       "      <td>41.504111</td>\n",
       "      <td>-74.104833</td>\n",
       "    </tr>\n",
       "  </tbody>\n",
       "</table>\n",
       "</div>"
      ],
      "text/plain": [
       "                                       name      city        lat        lon\n",
       "YXU                          London Airport    London  43.035599 -81.153900\n",
       "LTN                    London Luton Airport    London  51.874699  -0.368333\n",
       "BQH              London Biggin Hill Airport    London  51.330799   0.032500\n",
       "LGW                  London Gatwick Airport    London  51.148102  -0.190278\n",
       "LCY                     London City Airport    London  51.505299   0.055278\n",
       "LHR                 London Heathrow Airport    London  51.470600  -0.461941\n",
       "STN                 London Stansted Airport    London  51.884998   0.235000\n",
       "NHT                            RAF Northolt    London  51.553001  -0.418167\n",
       "ISP          Long Island Mac Arthur Airport  New York  40.796136 -73.100665\n",
       "JFK    John F Kennedy International Airport  New York  40.639928 -73.778693\n",
       "LGA                       Laguardia Airport  New York  40.777250 -73.872611\n",
       "SWF  New York Stewart International Airport  New York  41.504111 -74.104833"
      ]
     },
     "execution_count": 35,
     "metadata": {},
     "output_type": "execute_result"
    }
   ],
   "source": [
    "airports.loc[(airports['city'] == 'New York') + (airports['city'] == 'London')]"
   ]
  },
  {
   "cell_type": "markdown",
   "id": "b0060e1d-a89c-43e3-a1c1-6e76dd068c71",
   "metadata": {},
   "source": [
    "#### Let's check if there are more non-existing airport name codes in our dataset"
   ]
  },
  {
   "cell_type": "code",
   "execution_count": 36,
   "id": "4c706ec1-c130-40ca-ab19-1e2b5bd4eba6",
   "metadata": {},
   "outputs": [],
   "source": [
    "airport_list = np.array(airports.index)\n",
    "airport_list_dep = np.array(df['Departure Code'])\n",
    "airport_list_arr = np.array(df['Arrival Code'])"
   ]
  },
  {
   "cell_type": "code",
   "execution_count": 37,
   "id": "a3525c9d-e46b-4ac7-bfb6-6391bd71e721",
   "metadata": {},
   "outputs": [
    {
     "name": "stdout",
     "output_type": "stream",
     "text": [
      "['NYC' 'MIL' 'TCI' 'LON' 'TSE' 'NYC' 'TCI']\n"
     ]
    }
   ],
   "source": [
    "# Checking codes that are in Departure codes in dataset but are not listed in IATA database:\n",
    "\n",
    "for i in np.where(np.isin(airport_list_dep, airport_list, invert=True)):\n",
    "      print(airport_list_dep[i])"
   ]
  },
  {
   "cell_type": "code",
   "execution_count": 38,
   "id": "4566e181-2e64-41ae-ae65-f8312cd03a4c",
   "metadata": {},
   "outputs": [
    {
     "name": "stdout",
     "output_type": "stream",
     "text": [
      "['TSE' 'MIL' 'LON' 'TSE' 'NYC' 'PAR' 'MCM' 'TSE' 'RIO' 'PAR' 'BJS' 'TSE'\n",
      " 'MCM']\n"
     ]
    }
   ],
   "source": [
    "# Checking codes that are in Arrival codes in dataset but are not listed in IATA database:\n",
    "\n",
    "for i in np.where(np.isin(airport_list_arr, airport_list, invert=True)):\n",
    "    print(airport_list_arr[i])"
   ]
  },
  {
   "cell_type": "markdown",
   "id": "b73c4f55-e06c-4914-b382-2b52f6900e8a",
   "metadata": {},
   "source": [
    "#### Some of that codes are metropolitan area codes, not the airport codes and some of them are just non-existing codes."
   ]
  },
  {
   "cell_type": "markdown",
   "id": "7875f490-a8c5-41e4-8893-9797d74da052",
   "metadata": {},
   "source": [
    "## Summary"
   ]
  },
  {
   "cell_type": "markdown",
   "id": "335b983b-dc7d-4a2f-8985-d82fcd0afca3",
   "metadata": {},
   "source": [
    "As we can see, based only on flights with departure from JFK, there are a lot of incorrect values in provided dataset. Checked examples have shown, that calculated distances between aiports, based on provided coordinates, are usually a little bit longer than expected, but that happens when both airport coordinates are entered correctly. In examined entries with wrong coordinates, calculated declared distance happens to be way shorter than the actual one. Judgments cannot be made at this point, but based on proven examples, it can be assumed that in a situation where the coordinates are correct, the distance declared will be at the limit of statistical error, but incorrectly entered coordinates usually result in a shorter declared distance between airports tha actual, resulting in a larger cost-per-mile and less cost-effectivity of contracted airlines Dataset needs to be examined for departure/arrival codes and coordinates correctnes. "
   ]
  },
  {
   "cell_type": "code",
   "execution_count": null,
   "id": "20643e57-dfb8-47c8-aa66-026cf18759e9",
   "metadata": {},
   "outputs": [],
   "source": []
  }
 ],
 "metadata": {
  "kernelspec": {
   "display_name": "Python 3 (ipykernel)",
   "language": "python",
   "name": "python3"
  },
  "language_info": {
   "codemirror_mode": {
    "name": "ipython",
    "version": 3
   },
   "file_extension": ".py",
   "mimetype": "text/x-python",
   "name": "python",
   "nbconvert_exporter": "python",
   "pygments_lexer": "ipython3",
   "version": "3.10.9"
  }
 },
 "nbformat": 4,
 "nbformat_minor": 5
}
