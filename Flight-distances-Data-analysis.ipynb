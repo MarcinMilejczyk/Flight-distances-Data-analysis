{
 "cells": [
  {
   "cell_type": "markdown",
   "id": "0e2985cf-a4c6-4360-9cfd-7229dda13ba8",
   "metadata": {},
   "source": [
    "## Introduction"
   ]
  },
  {
   "cell_type": "markdown",
   "id": "9609190f-5091-4431-929d-6fe22f1081f6",
   "metadata": {},
   "source": [
    "One of our large global financial clients spends millions of dollars a year on air travel. They believe that some of their contracted airlines are intentionally extending their quoted mileage for routes to lower the results of their cost-per-mile KPI, resulting in them appearing cheaper than the competition. Our company have therefore been tasked to track the point-to-point mileage between their top destinations and compare it to the mileage given by the carriers.\n",
    "\n",
    "The first step of this is to establish the point-to-point distance between each of the airports given. Our company maintain a master list of airport latitude and longitude provided by the International Air Transport Association, and it is using this that we intend to calculate these distances so that they can be wrapped into a function and compared to the carrier-provided distances live in one of our analytics applications."
   ]
  },
  {
   "cell_type": "markdown",
   "id": "b0e1bbdb-5bf9-4de5-8b10-20efb205fd32",
   "metadata": {},
   "source": [
    "#### First, let's have a look at provided dataset..."
   ]
  },
  {
   "cell_type": "code",
   "execution_count": 5,
   "id": "d54abfae-7c24-49a9-9115-575a0cd0c11f",
   "metadata": {},
   "outputs": [],
   "source": [
    "import pandas as pd\n",
    "import numpy as np\n",
    "import geopy.distance\n",
    "import airportsdata\n",
    "import re"
   ]
  },
  {
   "cell_type": "code",
   "execution_count": 6,
   "id": "930a84d9-3bc5-4181-b6c9-263ae171c47e",
   "metadata": {},
   "outputs": [],
   "source": [
    "df = pd.read_csv(\"Flight-distances.csv\")"
   ]
  },
  {
   "cell_type": "code",
   "execution_count": 7,
   "id": "a5b02ac8-bdc7-499f-80b1-ed64ae8fd4d8",
   "metadata": {},
   "outputs": [
    {
     "data": {
      "text/html": [
       "<div>\n",
       "<style scoped>\n",
       "    .dataframe tbody tr th:only-of-type {\n",
       "        vertical-align: middle;\n",
       "    }\n",
       "\n",
       "    .dataframe tbody tr th {\n",
       "        vertical-align: top;\n",
       "    }\n",
       "\n",
       "    .dataframe thead th {\n",
       "        text-align: right;\n",
       "    }\n",
       "</style>\n",
       "<table border=\"1\" class=\"dataframe\">\n",
       "  <thead>\n",
       "    <tr style=\"text-align: right;\">\n",
       "      <th></th>\n",
       "      <th>Normalised City Pair</th>\n",
       "      <th>Departure Code</th>\n",
       "      <th>Arrival Code</th>\n",
       "      <th>Departure_lat</th>\n",
       "      <th>Departure_lon</th>\n",
       "      <th>Arrival_lat</th>\n",
       "      <th>Arrival_lon</th>\n",
       "    </tr>\n",
       "  </thead>\n",
       "  <tbody>\n",
       "    <tr>\n",
       "      <th>0</th>\n",
       "      <td>London, United Kingdom - New York, United Stat...</td>\n",
       "      <td>LHR</td>\n",
       "      <td>JFK</td>\n",
       "      <td>51.5</td>\n",
       "      <td>-0.45</td>\n",
       "      <td>40.64</td>\n",
       "      <td>-73.79</td>\n",
       "    </tr>\n",
       "    <tr>\n",
       "      <th>1</th>\n",
       "      <td>Johannesburg, South Africa - London, United Ki...</td>\n",
       "      <td>JNB</td>\n",
       "      <td>LHR</td>\n",
       "      <td>-26.1</td>\n",
       "      <td>28.23</td>\n",
       "      <td>51.47</td>\n",
       "      <td>-0.45</td>\n",
       "    </tr>\n",
       "    <tr>\n",
       "      <th>2</th>\n",
       "      <td>London, United Kingdom - New York, United Stat...</td>\n",
       "      <td>LHR</td>\n",
       "      <td>JFK</td>\n",
       "      <td>51.5</td>\n",
       "      <td>-0.45</td>\n",
       "      <td>40.64</td>\n",
       "      <td>-73.79</td>\n",
       "    </tr>\n",
       "    <tr>\n",
       "      <th>3</th>\n",
       "      <td>Johannesburg, South Africa - London, United Ki...</td>\n",
       "      <td>JNB</td>\n",
       "      <td>LHR</td>\n",
       "      <td>-26.1</td>\n",
       "      <td>28.23</td>\n",
       "      <td>51.47</td>\n",
       "      <td>-0.45</td>\n",
       "    </tr>\n",
       "    <tr>\n",
       "      <th>4</th>\n",
       "      <td>London, United Kingdom - Singapore, Singapore</td>\n",
       "      <td>SIN</td>\n",
       "      <td>LHR</td>\n",
       "      <td>1.3</td>\n",
       "      <td>103.98</td>\n",
       "      <td>51.47</td>\n",
       "      <td>-0.45</td>\n",
       "    </tr>\n",
       "  </tbody>\n",
       "</table>\n",
       "</div>"
      ],
      "text/plain": [
       "                                Normalised City Pair Departure Code  \\\n",
       "0  London, United Kingdom - New York, United Stat...            LHR   \n",
       "1  Johannesburg, South Africa - London, United Ki...            JNB   \n",
       "2  London, United Kingdom - New York, United Stat...            LHR   \n",
       "3  Johannesburg, South Africa - London, United Ki...            JNB   \n",
       "4      London, United Kingdom - Singapore, Singapore            SIN   \n",
       "\n",
       "  Arrival Code  Departure_lat  Departure_lon  Arrival_lat  Arrival_lon  \n",
       "0          JFK           51.5          -0.45        40.64       -73.79  \n",
       "1          LHR          -26.1          28.23        51.47        -0.45  \n",
       "2          JFK           51.5          -0.45        40.64       -73.79  \n",
       "3          LHR          -26.1          28.23        51.47        -0.45  \n",
       "4          LHR            1.3         103.98        51.47        -0.45  "
      ]
     },
     "execution_count": 7,
     "metadata": {},
     "output_type": "execute_result"
    }
   ],
   "source": [
    "df.head()"
   ]
  },
  {
   "cell_type": "markdown",
   "id": "9ac59091-ad69-4756-88f7-904aaebdf70d",
   "metadata": {},
   "source": [
    "#### Calculating distances between airports "
   ]
  },
  {
   "cell_type": "code",
   "execution_count": 8,
   "id": "580402ab-134f-401f-bb71-8989d7c5a046",
   "metadata": {},
   "outputs": [],
   "source": [
    "# Calculating distances between airports based on delivered dataset\n",
    "\n",
    "distance_list = []\n",
    "for i in df.index:\n",
    "    departure_coords = (df.Departure_lat[i], df.Departure_lon[i])\n",
    "    arrival_coords = (df.Arrival_lat[i],df.Arrival_lon[i])\n",
    "    distance_list.append(round((geopy.distance.geodesic(departure_coords, arrival_coords).km),2))"
   ]
  },
  {
   "cell_type": "code",
   "execution_count": 9,
   "id": "422c25b0-efa1-4eb5-8a0d-fd9d5b7ba637",
   "metadata": {},
   "outputs": [
    {
     "data": {
      "text/html": [
       "<div>\n",
       "<style scoped>\n",
       "    .dataframe tbody tr th:only-of-type {\n",
       "        vertical-align: middle;\n",
       "    }\n",
       "\n",
       "    .dataframe tbody tr th {\n",
       "        vertical-align: top;\n",
       "    }\n",
       "\n",
       "    .dataframe thead th {\n",
       "        text-align: right;\n",
       "    }\n",
       "</style>\n",
       "<table border=\"1\" class=\"dataframe\">\n",
       "  <thead>\n",
       "    <tr style=\"text-align: right;\">\n",
       "      <th></th>\n",
       "      <th>Normalised City Pair</th>\n",
       "      <th>Departure Code</th>\n",
       "      <th>Arrival Code</th>\n",
       "      <th>Departure_lat</th>\n",
       "      <th>Departure_lon</th>\n",
       "      <th>Arrival_lat</th>\n",
       "      <th>Arrival_lon</th>\n",
       "      <th>Declared_distance_km</th>\n",
       "    </tr>\n",
       "  </thead>\n",
       "  <tbody>\n",
       "    <tr>\n",
       "      <th>0</th>\n",
       "      <td>London, United Kingdom - New York, United Stat...</td>\n",
       "      <td>LHR</td>\n",
       "      <td>JFK</td>\n",
       "      <td>51.5</td>\n",
       "      <td>-0.45</td>\n",
       "      <td>40.64</td>\n",
       "      <td>-73.79</td>\n",
       "      <td>5555.04</td>\n",
       "    </tr>\n",
       "    <tr>\n",
       "      <th>1</th>\n",
       "      <td>Johannesburg, South Africa - London, United Ki...</td>\n",
       "      <td>JNB</td>\n",
       "      <td>LHR</td>\n",
       "      <td>-26.1</td>\n",
       "      <td>28.23</td>\n",
       "      <td>51.47</td>\n",
       "      <td>-0.45</td>\n",
       "      <td>9040.01</td>\n",
       "    </tr>\n",
       "    <tr>\n",
       "      <th>2</th>\n",
       "      <td>London, United Kingdom - New York, United Stat...</td>\n",
       "      <td>LHR</td>\n",
       "      <td>JFK</td>\n",
       "      <td>51.5</td>\n",
       "      <td>-0.45</td>\n",
       "      <td>40.64</td>\n",
       "      <td>-73.79</td>\n",
       "      <td>5555.04</td>\n",
       "    </tr>\n",
       "    <tr>\n",
       "      <th>3</th>\n",
       "      <td>Johannesburg, South Africa - London, United Ki...</td>\n",
       "      <td>JNB</td>\n",
       "      <td>LHR</td>\n",
       "      <td>-26.1</td>\n",
       "      <td>28.23</td>\n",
       "      <td>51.47</td>\n",
       "      <td>-0.45</td>\n",
       "      <td>9040.01</td>\n",
       "    </tr>\n",
       "    <tr>\n",
       "      <th>4</th>\n",
       "      <td>London, United Kingdom - Singapore, Singapore</td>\n",
       "      <td>SIN</td>\n",
       "      <td>LHR</td>\n",
       "      <td>1.3</td>\n",
       "      <td>103.98</td>\n",
       "      <td>51.47</td>\n",
       "      <td>-0.45</td>\n",
       "      <td>10890.57</td>\n",
       "    </tr>\n",
       "  </tbody>\n",
       "</table>\n",
       "</div>"
      ],
      "text/plain": [
       "                                Normalised City Pair Departure Code  \\\n",
       "0  London, United Kingdom - New York, United Stat...            LHR   \n",
       "1  Johannesburg, South Africa - London, United Ki...            JNB   \n",
       "2  London, United Kingdom - New York, United Stat...            LHR   \n",
       "3  Johannesburg, South Africa - London, United Ki...            JNB   \n",
       "4      London, United Kingdom - Singapore, Singapore            SIN   \n",
       "\n",
       "  Arrival Code  Departure_lat  Departure_lon  Arrival_lat  Arrival_lon  \\\n",
       "0          JFK           51.5          -0.45        40.64       -73.79   \n",
       "1          LHR          -26.1          28.23        51.47        -0.45   \n",
       "2          JFK           51.5          -0.45        40.64       -73.79   \n",
       "3          LHR          -26.1          28.23        51.47        -0.45   \n",
       "4          LHR            1.3         103.98        51.47        -0.45   \n",
       "\n",
       "   Declared_distance_km  \n",
       "0               5555.04  \n",
       "1               9040.01  \n",
       "2               5555.04  \n",
       "3               9040.01  \n",
       "4              10890.57  "
      ]
     },
     "execution_count": 9,
     "metadata": {},
     "output_type": "execute_result"
    }
   ],
   "source": [
    "# Adding to data frame column containing distances between airports\n",
    "\n",
    "df['Declared_distance_km'] = np.array(distance_list)\n",
    "df.head()"
   ]
  },
  {
   "cell_type": "markdown",
   "id": "382eab9c-8d54-4f1d-98aa-174ecb623ac8",
   "metadata": {},
   "source": [
    "#### Creating function allowing us to compare previously calculated and actual distances between airports"
   ]
  },
  {
   "cell_type": "code",
   "execution_count": 10,
   "id": "17c7a66e-2e76-4f0e-80db-1ae72cbd1fdb",
   "metadata": {},
   "outputs": [],
   "source": [
    "# Loading IATA airports data\n",
    "\n",
    "airports = airportsdata.load('IATA') \n",
    "airports = pd.DataFrame.from_dict(airports, \n",
    "                                  orient='index', \n",
    "                                  columns= ['name', 'city', 'lat', 'lon'])"
   ]
  },
  {
   "cell_type": "code",
   "execution_count": 11,
   "id": "e90713bf-6fc5-4570-b3d7-2756d012069d",
   "metadata": {},
   "outputs": [],
   "source": [
    "def checking_distance():\n",
    "\n",
    "    valid_code = re.compile(r\"^[A-Z]{3}$\")\n",
    "\n",
    "    def airport_code(user_input):\n",
    "        if valid_code.match(user_input.strip()):\n",
    "            return True\n",
    "        else:\n",
    "            return False\n",
    "\n",
    "    while True:\n",
    "        user_input = input('Enter Departure Code (Three capital letters according to IATA codes):')\n",
    "        if airport_code(user_input) == True:\n",
    "            dep_code_input = user_input\n",
    "            while True:\n",
    "                user_input = input('Enter Arrival Code (Three capital letters according to IATA codes):')\n",
    "                if airport_code(user_input) == True:\n",
    "                    arr_code_input = user_input\n",
    "                    break            \n",
    "                else:\n",
    "                    print('Invalid code')\n",
    "            break            \n",
    "        else:\n",
    "            print('Invalid code')\n",
    "            \n",
    "    \n",
    "    dep_lon = airports['lon'].loc[dep_code_input]\n",
    "    dep_lat = airports['lat'].loc[dep_code_input]\n",
    "    \n",
    "    arr_lon = airports['lon'].loc[arr_code_input]\n",
    "    arr_lat = airports['lat'].loc[arr_code_input]\n",
    "    \n",
    "    departure_coords = (dep_lat, dep_lon)\n",
    "    arrival_coords = (arr_lat, arr_lon)\n",
    "    \n",
    "      \n",
    "    print('\\nChecking for distance...')\n",
    "    print('\\nProvided flights with calculated distances between airports based on given coordinates:\\n')\n",
    "    print(df[['Normalised City Pair', 'Departure Code', 'Arrival Code', 'Declared_distance_km']].loc[(df['Departure Code'] == dep_code_input) & (df['Arrival Code'] == arr_code_input)].to_string())\n",
    "    print(f'\\nActual distance between airports is: {round((geopy.distance.geodesic(departure_coords, arrival_coords).km),2)} km')\n",
    "    "
   ]
  },
  {
   "cell_type": "markdown",
   "id": "492d0b28-5c38-4c2c-8f6b-0df310e1e8a9",
   "metadata": {},
   "source": [
    "#### Let's try our function on the three most frequented flights"
   ]
  },
  {
   "cell_type": "code",
   "execution_count": 12,
   "id": "318ba2af-1a70-4afd-9a5d-1d9ce06ff0d8",
   "metadata": {},
   "outputs": [
    {
     "data": {
      "text/plain": [
       "Departure Code  Arrival Code\n",
       "LHR             JFK             11\n",
       "SIN             HKG              9\n",
       "HKG             SIN              8\n",
       "dtype: int64"
      ]
     },
     "execution_count": 12,
     "metadata": {},
     "output_type": "execute_result"
    }
   ],
   "source": [
    "df[['Departure Code', 'Arrival Code']].value_counts().head(3)"
   ]
  },
  {
   "cell_type": "code",
   "execution_count": null,
   "id": "fd60c451-3b31-43ea-9dd7-68f191f88b46",
   "metadata": {},
   "outputs": [],
   "source": []
  }
 ],
 "metadata": {
  "kernelspec": {
   "display_name": "Python 3 (ipykernel)",
   "language": "python",
   "name": "python3"
  },
  "language_info": {
   "codemirror_mode": {
    "name": "ipython",
    "version": 3
   },
   "file_extension": ".py",
   "mimetype": "text/x-python",
   "name": "python",
   "nbconvert_exporter": "python",
   "pygments_lexer": "ipython3",
   "version": "3.10.9"
  }
 },
 "nbformat": 4,
 "nbformat_minor": 5
}
